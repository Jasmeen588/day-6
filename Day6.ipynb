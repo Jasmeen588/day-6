{
 "cells": [
  {
   "cell_type": "markdown",
   "metadata": {},
   "source": [
    "# Assignment Day 6\n",
    "   submitted By: Jasmeen kaur"
   ]
  },
  {
   "cell_type": "markdown",
   "metadata": {},
   "source": [
    "# Question 1\n",
    "For this challenge,create a bank account class that has two attributes *ownerName *Balance And two methods *deposit *withdraw As an added requirement,withdrawals may not exceed the available balance. Instantiate your class,make several deposits and withdrawals,and test to make sure the account cant be overdrawn."
   ]
  },
  {
   "cell_type": "code",
   "execution_count": 1,
   "metadata": {},
   "outputs": [
    {
     "name": "stdout",
     "output_type": "stream",
     "text": [
      "Hello!!! jashjot to the ATM\n",
      "You have balance = 0\n",
      "Enter amount to be Deposited: 100\n",
      "\n",
      " Amount Deposited: 100.0\n",
      "Enter amount to be Withdrawn: 390\n",
      "\n",
      " Insufficient balance  \n",
      "\n",
      " Net Available Balance= 100.0\n"
     ]
    }
   ],
   "source": [
    "class Bank_Account: \n",
    "    ownerName=\"jashjot\"\n",
    "    def __init__(self): \n",
    "        self.balance=0\n",
    "        print(\"Hello!!! \"+self.ownerName+ \" to the ATM\") \n",
    "        print(\"You have balance = \"+ str(self.balance))\n",
    "  \n",
    "    def deposit(self): \n",
    "        amount=float(input(\"Enter amount to be Deposited: \")) \n",
    "        self.balance += amount \n",
    "        print(\"\\n Amount Deposited:\",amount) \n",
    "  \n",
    "    def withdraw(self): \n",
    "        amount = float(input(\"Enter amount to be Withdrawn: \")) \n",
    "        if self.balance>=amount: \n",
    "            self.balance-=amount \n",
    "            print(\"\\n You Withdrew:\", amount) \n",
    "        else: \n",
    "            print(\"\\n Insufficient balance  \") \n",
    "  \n",
    "    def display(self): \n",
    "        print(\"\\n Net Available Balance=\",self.balance) \n",
    "  \n",
    "s = Bank_Account() \n",
    "s.deposit() \n",
    "s.withdraw() \n",
    "s.display()"
   ]
  },
  {
   "cell_type": "markdown",
   "metadata": {},
   "source": [
    "# Question 2\n",
    "For this challenge,create a cone class that has two attributes:\n",
    "*R=Radius\n",
    "*h=Height\n",
    "And two methods:\n",
    "*Volume = Π * r2 = (h/3)\n",
    "*Surface area : base : Π * r2 , side : Π * r * √(r2 + h2)\n",
    "Make only one class with functions,as in where required import Math. "
   ]
  },
  {
   "cell_type": "code",
   "execution_count": 2,
   "metadata": {},
   "outputs": [],
   "source": [
    "import math\n",
    "pi = math.pi\n",
    "class Cone:\n",
    "    def __init__(self,r,h):\n",
    "        self.r=r\n",
    "        self.h=h\n",
    "    \n",
    "    def Vol(self):\n",
    "       \n",
    "        volume= (1 / 3) * pi * int(self.r) * int(self.r) * int(self.h)\n",
    "        print(volume)\n",
    "    \n",
    "    def Sur(self):\n",
    "        \n",
    "        ra=int(self.r)\n",
    "        he=int(self.h)\n",
    "        side=math.sqrt((ra*ra)+(he*he))\n",
    "        surfaceArea= pi*ra*(ra+side)\n",
    "        print(surfaceArea)\n",
    "    "
   ]
  },
  {
   "cell_type": "code",
   "execution_count": 3,
   "metadata": {},
   "outputs": [],
   "source": [
    "cones=Cone(5,6)"
   ]
  },
  {
   "cell_type": "code",
   "execution_count": 4,
   "metadata": {},
   "outputs": [
    {
     "name": "stdout",
     "output_type": "stream",
     "text": [
      "157.07963267948963\n"
     ]
    }
   ],
   "source": [
    "cones.Vol()"
   ]
  },
  {
   "cell_type": "code",
   "execution_count": 5,
   "metadata": {},
   "outputs": [
    {
     "name": "stdout",
     "output_type": "stream",
     "text": [
      "201.22293136239685\n"
     ]
    }
   ],
   "source": [
    "cones.Sur()"
   ]
  },
  {
   "cell_type": "code",
   "execution_count": null,
   "metadata": {},
   "outputs": [],
   "source": []
  }
 ],
 "metadata": {
  "kernelspec": {
   "display_name": "Python 3",
   "language": "python",
   "name": "python3"
  },
  "language_info": {
   "codemirror_mode": {
    "name": "ipython",
    "version": 3
   },
   "file_extension": ".py",
   "mimetype": "text/x-python",
   "name": "python",
   "nbconvert_exporter": "python",
   "pygments_lexer": "ipython3",
   "version": "3.8.3"
  }
 },
 "nbformat": 4,
 "nbformat_minor": 4
}
